{
 "cells": [
  {
   "cell_type": "code",
   "execution_count": 32,
   "metadata": {},
   "outputs": [
    {
     "data": {
      "text/plain": [
       "Beef                                              7\n",
       "Chicken                                           7\n",
       "Yakisoba                                          6\n",
       "Artificial Chicken                                6\n",
       "Vegetable                                         6\n",
       "                                                 ..\n",
       "Oh! Ricey Pho Ga                                  1\n",
       "Veggie Noodle Black Sesame Noodle                 1\n",
       "Nuudeli Liha Nudlar Kott                          1\n",
       "Artificial Beef Instant Noodles With Soup Base    1\n",
       "Tom Yum Chili Flavor                              1\n",
       "Name: Variety, Length: 2413, dtype: int64"
      ]
     },
     "execution_count": 32,
     "metadata": {},
     "output_type": "execute_result"
    }
   ],
   "source": [
    "import pandas as pd\n",
    "import numpy as np\n",
    "import matplotlib as plt\n",
    "df=pd.read_csv(\"ramen-ratings.csv\")\n",
    "df.drop(\"Top Ten\",axis=1,inplace=True)\n",
    "df[\"Variety\"].value_counts()"
   ]
  },
  {
   "cell_type": "code",
   "execution_count": null,
   "metadata": {},
   "outputs": [],
   "source": []
  }
 ],
 "metadata": {
  "kernelspec": {
   "display_name": "Python 3.10.2 64-bit",
   "language": "python",
   "name": "python3"
  },
  "language_info": {
   "codemirror_mode": {
    "name": "ipython",
    "version": 3
   },
   "file_extension": ".py",
   "mimetype": "text/x-python",
   "name": "python",
   "nbconvert_exporter": "python",
   "pygments_lexer": "ipython3",
   "version": "3.10.2"
  },
  "orig_nbformat": 4,
  "vscode": {
   "interpreter": {
    "hash": "2606d968353f7d376702d4ff6f3b6c6b7d99413291a74525a0c53b80351bfcb4"
   }
  }
 },
 "nbformat": 4,
 "nbformat_minor": 2
}
