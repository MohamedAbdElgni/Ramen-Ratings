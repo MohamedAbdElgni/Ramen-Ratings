{
 "cells": [
  {
   "cell_type": "code",
   "execution_count": 223,
   "metadata": {},
   "outputs": [
    {
     "data": {
      "text/html": [
       "<div>\n",
       "<style scoped>\n",
       "    .dataframe tbody tr th:only-of-type {\n",
       "        vertical-align: middle;\n",
       "    }\n",
       "\n",
       "    .dataframe tbody tr th {\n",
       "        vertical-align: top;\n",
       "    }\n",
       "\n",
       "    .dataframe thead th {\n",
       "        text-align: right;\n",
       "    }\n",
       "</style>\n",
       "<table border=\"1\" class=\"dataframe\">\n",
       "  <thead>\n",
       "    <tr style=\"text-align: right;\">\n",
       "      <th></th>\n",
       "      <th>Review #</th>\n",
       "      <th>Brand</th>\n",
       "      <th>Variety</th>\n",
       "      <th>Style</th>\n",
       "      <th>Country</th>\n",
       "      <th>Stars</th>\n",
       "      <th>Top Ten</th>\n",
       "    </tr>\n",
       "  </thead>\n",
       "  <tbody>\n",
       "    <tr>\n",
       "      <th>0</th>\n",
       "      <td>2580</td>\n",
       "      <td>New Touch</td>\n",
       "      <td>T's Restaurant Tantanmen</td>\n",
       "      <td>Cup</td>\n",
       "      <td>Japan</td>\n",
       "      <td>3.75</td>\n",
       "      <td>NaN</td>\n",
       "    </tr>\n",
       "    <tr>\n",
       "      <th>1</th>\n",
       "      <td>2579</td>\n",
       "      <td>Just Way</td>\n",
       "      <td>Noodles Spicy Hot Sesame Spicy Hot Sesame Guan...</td>\n",
       "      <td>Pack</td>\n",
       "      <td>Taiwan</td>\n",
       "      <td>1.00</td>\n",
       "      <td>NaN</td>\n",
       "    </tr>\n",
       "    <tr>\n",
       "      <th>2</th>\n",
       "      <td>2578</td>\n",
       "      <td>Nissin</td>\n",
       "      <td>Cup Noodles Chicken Vegetable</td>\n",
       "      <td>Cup</td>\n",
       "      <td>USA</td>\n",
       "      <td>2.25</td>\n",
       "      <td>NaN</td>\n",
       "    </tr>\n",
       "    <tr>\n",
       "      <th>3</th>\n",
       "      <td>2577</td>\n",
       "      <td>Wei Lih</td>\n",
       "      <td>GGE Ramen Snack Tomato Flavor</td>\n",
       "      <td>Pack</td>\n",
       "      <td>Taiwan</td>\n",
       "      <td>2.75</td>\n",
       "      <td>NaN</td>\n",
       "    </tr>\n",
       "    <tr>\n",
       "      <th>4</th>\n",
       "      <td>2576</td>\n",
       "      <td>Ching's Secret</td>\n",
       "      <td>Singapore Curry</td>\n",
       "      <td>Pack</td>\n",
       "      <td>India</td>\n",
       "      <td>3.75</td>\n",
       "      <td>NaN</td>\n",
       "    </tr>\n",
       "    <tr>\n",
       "      <th>...</th>\n",
       "      <td>...</td>\n",
       "      <td>...</td>\n",
       "      <td>...</td>\n",
       "      <td>...</td>\n",
       "      <td>...</td>\n",
       "      <td>...</td>\n",
       "      <td>...</td>\n",
       "    </tr>\n",
       "    <tr>\n",
       "      <th>2575</th>\n",
       "      <td>5</td>\n",
       "      <td>Vifon</td>\n",
       "      <td>Hu Tiu Nam Vang [\"Phnom Penh\" style] Asian Sty...</td>\n",
       "      <td>Bowl</td>\n",
       "      <td>Vietnam</td>\n",
       "      <td>3.50</td>\n",
       "      <td>NaN</td>\n",
       "    </tr>\n",
       "    <tr>\n",
       "      <th>2576</th>\n",
       "      <td>4</td>\n",
       "      <td>Wai Wai</td>\n",
       "      <td>Oriental Style Instant Noodles</td>\n",
       "      <td>Pack</td>\n",
       "      <td>Thailand</td>\n",
       "      <td>1.00</td>\n",
       "      <td>NaN</td>\n",
       "    </tr>\n",
       "    <tr>\n",
       "      <th>2577</th>\n",
       "      <td>3</td>\n",
       "      <td>Wai Wai</td>\n",
       "      <td>Tom Yum Shrimp</td>\n",
       "      <td>Pack</td>\n",
       "      <td>Thailand</td>\n",
       "      <td>2.00</td>\n",
       "      <td>NaN</td>\n",
       "    </tr>\n",
       "    <tr>\n",
       "      <th>2578</th>\n",
       "      <td>2</td>\n",
       "      <td>Wai Wai</td>\n",
       "      <td>Tom Yum Chili Flavor</td>\n",
       "      <td>Pack</td>\n",
       "      <td>Thailand</td>\n",
       "      <td>2.00</td>\n",
       "      <td>NaN</td>\n",
       "    </tr>\n",
       "    <tr>\n",
       "      <th>2579</th>\n",
       "      <td>1</td>\n",
       "      <td>Westbrae</td>\n",
       "      <td>Miso Ramen</td>\n",
       "      <td>Pack</td>\n",
       "      <td>USA</td>\n",
       "      <td>0.50</td>\n",
       "      <td>NaN</td>\n",
       "    </tr>\n",
       "  </tbody>\n",
       "</table>\n",
       "<p>2577 rows × 7 columns</p>\n",
       "</div>"
      ],
      "text/plain": [
       "      Review #           Brand  \\\n",
       "0         2580       New Touch   \n",
       "1         2579        Just Way   \n",
       "2         2578          Nissin   \n",
       "3         2577         Wei Lih   \n",
       "4         2576  Ching's Secret   \n",
       "...        ...             ...   \n",
       "2575         5           Vifon   \n",
       "2576         4         Wai Wai   \n",
       "2577         3         Wai Wai   \n",
       "2578         2         Wai Wai   \n",
       "2579         1        Westbrae   \n",
       "\n",
       "                                                Variety Style   Country  \\\n",
       "0                             T's Restaurant Tantanmen    Cup     Japan   \n",
       "1     Noodles Spicy Hot Sesame Spicy Hot Sesame Guan...  Pack    Taiwan   \n",
       "2                         Cup Noodles Chicken Vegetable   Cup       USA   \n",
       "3                         GGE Ramen Snack Tomato Flavor  Pack    Taiwan   \n",
       "4                                       Singapore Curry  Pack     India   \n",
       "...                                                 ...   ...       ...   \n",
       "2575  Hu Tiu Nam Vang [\"Phnom Penh\" style] Asian Sty...  Bowl   Vietnam   \n",
       "2576                     Oriental Style Instant Noodles  Pack  Thailand   \n",
       "2577                                     Tom Yum Shrimp  Pack  Thailand   \n",
       "2578                               Tom Yum Chili Flavor  Pack  Thailand   \n",
       "2579                                         Miso Ramen  Pack       USA   \n",
       "\n",
       "      Stars Top Ten  \n",
       "0      3.75     NaN  \n",
       "1      1.00     NaN  \n",
       "2      2.25     NaN  \n",
       "3      2.75     NaN  \n",
       "4      3.75     NaN  \n",
       "...     ...     ...  \n",
       "2575   3.50     NaN  \n",
       "2576   1.00     NaN  \n",
       "2577   2.00     NaN  \n",
       "2578   2.00     NaN  \n",
       "2579   0.50     NaN  \n",
       "\n",
       "[2577 rows x 7 columns]"
      ]
     },
     "execution_count": 223,
     "metadata": {},
     "output_type": "execute_result"
    }
   ],
   "source": [
    "import pandas as pd\n",
    "import numpy as np\n",
    "import matplotlib.pyplot as plt\n",
    "df=pd.read_csv(\"ramen-ratings.csv\",index_col=False)\n",
    "\n",
    "d1=df[df['Stars'] == 'Unrated'].index\n",
    "df.drop(d1 , inplace=True)\n",
    "df.Stars=df.Stars.astype(float)\n",
    "# df[df.Stars>2.5]\n",
    "# dic=hr.Country.value_counts().to_dict()\n",
    "# l=[]\n",
    "# for x in dic.keys():\n",
    "#     if dic[x]>50:\n",
    "#         l.append(x)\n"
   ]
  },
  {
   "cell_type": "code",
   "execution_count": 224,
   "metadata": {},
   "outputs": [],
   "source": [
    "#cities with top Ten rating\n",
    "from operator import index\n",
    "t10=df.dropna(subset = ['Top Ten'])\n",
    "#cleaning Top ten coulum form invalid values\n",
    "ratL=list(t10['Top Ten'].values)\n",
    "for x in ratL:\n",
    "    if len(x)<4:\n",
    "        ratL.remove(x)\n",
    "t10=t10[t10['Top Ten'].isin(ratL)]\n",
    "t10['Top Ten']=t10['Top Ten']\n",
    "t10['Top Ten']\n",
    "#add placment col based on top ten clo\n",
    "t10[\"Placement\"]=t10[\"Top Ten\"].str[-3:]\n",
    "t10['Top Ten']=t10[\"Top Ten\"].str[0:5]\n",
    "t10['Placement']=t10['Placement'].str.strip()\n",
    "t10['Placement']=t10['Placement'].str[1:]\n",
    "t10.rename(columns={'Top Ten':\"Top_ten\",'Review #':'Review'},inplace=True)\n",
    "#t10=Data for Cities with top ten rate\n",
    "t10\n",
    "df_c=df.drop(\"Top Ten\",axis=1)\n",
    "df.rename(columns={'Review #':'Review'},inplace=True)\n"
   ]
  },
  {
   "cell_type": "code",
   "execution_count": 225,
   "metadata": {},
   "outputs": [],
   "source": [
    "df_c=df_c.dropna(subset = ['Style'])\n",
    "#df_c is a cleaned data with out top_ten col"
   ]
  },
  {
   "cell_type": "code",
   "execution_count": 230,
   "metadata": {},
   "outputs": [
    {
     "name": "stdout",
     "output_type": "stream",
     "text": [
      "The Top Country Rating Is Singapore Took Place 7 Times In The Top Ten List ,With Most Common Brand Prima Taste.\n"
     ]
    }
   ],
   "source": [
    "topCity=t10['Country'].value_counts()\n",
    "print(f\"the top country rating is {topCity.idxmax(axis=0)} took place {topCity.max()} times in the top ten list ,with most Common Brand {t10['Brand'].value_counts().idxmax()}.\".title())\n"
   ]
  },
  {
   "cell_type": "code",
   "execution_count": 249,
   "metadata": {},
   "outputs": [
    {
     "data": {
      "text/plain": [
       "Text(0, 0.5, 'Times')"
      ]
     },
     "execution_count": 249,
     "metadata": {},
     "output_type": "execute_result"
    },
    {
     "data": {
      "image/png": "[encoded data removed]",
      "text/plain": [
       "<Figure size 432x288 with 1 Axes>"
      ]
     },
     "metadata": {
      "needs_background": "light"
     },
     "output_type": "display_data"
    }
   ],
   "source": [
    "#chart\n",
    "x=t10['Country'].value_counts().plot(kind=\"bar\")\n",
    "x.set_title(\"Top10 rated Countries Chart\")\n",
    "x.set_xlabel(\"Country\")\n",
    "x.set_ylabel(\"Times\")\n",
    "\n"
   ]
  },
  {
   "cell_type": "code",
   "execution_count": 253,
   "metadata": {},
   "outputs": [
    {
     "data": {
      "text/plain": [
       "<AxesSubplot:title={'center':'Top Brands'}, xlabel='Brand', ylabel='Rating'>"
      ]
     },
     "execution_count": 253,
     "metadata": {},
     "output_type": "execute_result"
    },
    {
     "data": {
      "image/png": "[encoded data removed]",
      "text/plain": [
       "<Figure size 432x288 with 1 Axes>"
      ]
     },
     "metadata": {
      "needs_background": "light"
     },
     "output_type": "display_data"
    }
   ],
   "source": [
    "t10[\"Brand\"].value_counts().plot(kind=\"bar\", title='Top10 Brands', xlabel='Brand', ylabel='Rating')"
   ]
  },
  {
   "cell_type": "code",
   "execution_count": 259,
   "metadata": {},
   "outputs": [
    {
     "data": {
      "text/plain": [
       "<AxesSubplot:title={'center':'Styles Chart'}, xlabel='Style', ylabel='Count'>"
      ]
     },
     "execution_count": 259,
     "metadata": {},
     "output_type": "execute_result"
    },
    {
     "data": {
      "image/png": "[encoded data removed]",
      "text/plain": [
       "<Figure size 432x288 with 1 Axes>"
      ]
     },
     "metadata": {
      "needs_background": "light"
     },
     "output_type": "display_data"
    }
   ],
   "source": [
    "df_c['Style'].value_counts().plot(kind=\"bar\", title='Styles Chart', xlabel='Style', ylabel='Count')"
   ]
  },
  {
   "cell_type": "code",
   "execution_count": 296,
   "metadata": {},
   "outputs": [
    {
     "data": {
      "text/plain": [
       "<AxesSubplot:title={'center':'Most Cities Rated Above Avg Rating'}, xlabel='Country', ylabel='Times Rated'>"
      ]
     },
     "execution_count": 296,
     "metadata": {},
     "output_type": "execute_result"
    },
    {
     "data": {
      "image/png": "[encoded data removed]",
      "text/plain": [
       "<Figure size 432x288 with 1 Axes>"
      ]
     },
     "metadata": {
      "needs_background": "light"
     },
     "output_type": "display_data"
    }
   ],
   "source": [
    "high_RG=df_c.loc[df_c['Stars']>(df_c['Stars'].mean())]\n",
    "cites_aboveAVG=high_RG[[\"Country\"]].value_counts().rename_axis('City').reset_index(name='Counts').sort_values(by='Counts',ascending=False)\n",
    "z=cites_aboveAVG[cites_aboveAVG['Counts']>20]\n",
    "z.set_index('City').plot(kind=\"bar\", title='Most Cities rated above AVG Stars rating'.title(), xlabel='Country', ylabel='Times Rated')"
   ]
  },
  {
   "cell_type": "code",
   "execution_count": null,
   "metadata": {},
   "outputs": [],
   "source": []
  }
 ],
 "metadata": {
  "kernelspec": {
   "display_name": "Python 3.10.2 64-bit",
   "language": "python",
   "name": "python3"
  },
  "language_info": {
   "codemirror_mode": {
    "name": "ipython",
    "version": 3
   },
   "file_extension": ".py",
   "mimetype": "text/x-python",
   "name": "python",
   "nbconvert_exporter": "python",
   "pygments_lexer": "ipython3",
   "version": "3.10.2"
  },
  "orig_nbformat": 4,
  "vscode": {
   "interpreter": {
    "hash": "2606d968353f7d376702d4ff6f3b6c6b7d99413291a74525a0c53b80351bfcb4"
   }
  }
 },
 "nbformat": 4,
 "nbformat_minor": 2
}
